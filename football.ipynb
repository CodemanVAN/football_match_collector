{
    "cells": [
        {
            "cell_type": "code",
            "execution_count": null,
            "source": [
                "from sklearn import cross_decomposition\r\n",
                "from sklearn.ensemble import RandomForestClassifier\r\n",
                "import pandas as pd\r\n",
                "import os\r\n",
                "os.chdir(r'C:\\Users\\18249\\Desktop\\vpn')\r\n",
                "os.getcwd()"
            ],
            "outputs": [],
            "metadata": {}
        },
        {
            "cell_type": "markdown",
            "source": [
                "['Unnamed: 0', '时间', '主队', '客队', '赛果', '总进球', '主初赔', '客初赔', '初盘', '主临赔',\r\n",
                "       '客临盘赔', '临盘', '主胜概率', '客胜概率', '大球初盘', '小球初盘', '球初盘', '大球临盘', '小球临盘',\r\n",
                "       '球临盘', '欧主初赔', '欧客初赔', '欧初平赔', '欧主临赔', '欧客临赔', '欧平临赔', '欧主概率', '欧平概率',\r\n",
                "       '欧客概率']"
            ],
            "metadata": {}
        },
        {
            "cell_type": "markdown",
            "source": [
                "['受平/半', '半/一', '平/半', '受半球', '半球', '两半', '一/球半', '平手', '一球', '受球半',\r\n",
                "       '受两球', '受半/一', '球半', '两/两半', '两球', '球半/两', '受球半/两', '受一/球半',\r\n",
                "       '两半/三']"
            ],
            "metadata": {}
        },
        {
            "cell_type": "code",
            "execution_count": null,
            "source": [
                "files=os.listdir()\r\n",
                "print(files)\r\n",
                "for f in files:\r\n",
                "    op_file =pd.read_excel(f)\r\n",
                "    length=op_file.shape[0]\r\n",
                "    title=list(op_file.columns)\r\n",
                "    mp1={\r\n",
                "        '半球':0.5, '平手':0, '半/一':0.75, '平/半':0.25, '一球':1, '一/球半':1.25,  '球半':1.5, '两球':2, '球半/两':1.75,'两半':2.5,'两半/三':2.75, \r\n",
                "        '三球':3,'两/两半':2.25,'三/三半':3.25,'三半':3.5,'三半/四':3.75,'四球':4,'四/四半':4.25,'四半':4.5,'四半/五':4.75,'五球':5\r\n",
                "    }\r\n",
                "    mp2={'2.5/3球':2.75, '2.5球':2.5, '3球':3, '3.5球':3.5, '3/3.5球':3.25, '2/2.5球':2.25,'2球':2, '1.5/2球':1.75, '1.5球':1.5,\r\n",
                "         '3.5/4球':3.75, '4球':4,'3.5球':3.5,'4/4.5球':4.25,'4.5球':4.5,'4.5/5球':4.75,'5.0球':5,'4.75球':4.75}\r\n",
                "    for i in title:\r\n",
                "        for j in range(length):\r\n",
                "            if '↓' in str(op_file[i][j]) or '↑' in str(op_file[i][j]):\r\n",
                "                op_file[i][j]=op_file[i][j].replace('↓','')\r\n",
                "                op_file[i][j]=op_file[i][j].replace('↑','')\r\n",
                "    for i in range(length):\r\n",
                "        op_file['临盘'][i]=op_file['临盘'][i].replace('↓','')\r\n",
                "        op_file['临盘'][i]=op_file['临盘'][i].replace('↑','')\r\n",
                "        if '受' in op_file['初盘'][i]:\r\n",
                "            op_file['初盘'][i] =-mp1[op_file['初盘'][i][1:]]\r\n",
                "        else:op_file['初盘'][i] =mp1[op_file['初盘'][i]]\r\n",
                "        if '受' in op_file['临盘'][i]:\r\n",
                "            op_file['临盘'][i] =-mp1[op_file['临盘'][i][1:]]\r\n",
                "        else:op_file['临盘'][i] =mp1[op_file['临盘'][i]]\r\n",
                "        op_file['球临盘'][i] =mp2[op_file['球临盘'][i]]\r\n",
                "        op_file['球初盘'][i] =mp2[op_file['球初盘'][i]]\r\n",
                "    for j in title[5:]:\r\n",
                "        op_file[j] = op_file[j].astype(\"float\")\r\n",
                "    del op_file[title[0]]\r\n",
                "    op_file['是否大球']=op_file['球临盘']<op_file['总进球']\r\n",
                "    op_file['大球盘变化']=op_file['球临盘']-op_file['球初盘']\r\n",
                "    op_file['大球赔变化']=op_file['大球临盘']=op_file['大球初盘']\r\n",
                "    op_file['小球赔变化']=op_file['小球临盘']=op_file['小球初盘']\r\n",
                "    op_file['让盘变化']=op_file['临盘']-op_file['初盘']\r\n",
                "    op_file['亚主赔变化']=op_file['主临赔']-op_file['主初赔']\r\n",
                "    op_file['亚客赔变化']=op_file['客临盘赔']-op_file['客初赔']\r\n",
                "    op_file['欧主赔变化']=op_file['欧主临赔']-op_file['欧主初赔']\r\n",
                "    op_file['欧客赔变化']=op_file['欧客临赔']-op_file['欧客初赔']\r\n",
                "    op_file['欧平赔变化']=op_file['欧平临赔']-op_file['欧初平赔']\r\n",
                "    op_file.to_excel('Cover'+f)\r\n"
            ],
            "outputs": [],
            "metadata": {}
        },
        {
            "cell_type": "markdown",
            "source": [
                "['Unnamed: 0', '时间', '主队', '客队', '赛果', '总进球', '主初赔', '客初赔', '初盘', '主临赔',\r\n",
                "       '客临盘赔', '临盘', '主胜概率', '客胜概率', '大球初盘', '小球初盘', '球初盘', '大球临盘', '小球临盘',\r\n",
                "       '球临盘', '欧主初赔', '欧客初赔', '欧初平赔', '欧主临赔', '欧客临赔', '欧平临赔', '欧主概率', '欧平概率',\r\n",
                "       '欧客概率']"
            ],
            "metadata": {}
        },
        {
            "cell_type": "code",
            "execution_count": null,
            "source": [
                "#随机森林\r\n",
                "from sklearn.ensemble import RandomForestClassifier\r\n",
                "from sklearn.model_selection import train_test_split\r\n",
                "from sklearn.metrics import accuracy_score\r\n",
                "from sklearn.metrics import confusion_matrix\r\n",
                "from sklearn.metrics import classification_report\r\n",
                "from sklearn.preprocessing import StandardScaler\r\n",
                "data=[]\r\n",
                "traffic_feature=[]\r\n",
                "traffic_target=[]\r\n",
                "traffic_target2=[]\r\n",
                "csv_files = pd.read_excel('Cover德乙2020-2021数据.xlsx')\r\n",
                "tt=list(csv_files.columns)\r\n",
                "tt=tt[]\r\n",
                "csv_file=csv_files[['赛果', '总进球', '主初赔', '客初赔', '初盘', '主临赔',\r\n",
                "       '客临盘赔', '临盘', '主胜概率', '客胜概率', '大球初盘', '小球初盘', '球初盘', '大球临盘', '小球临盘',\r\n",
                "       '球临盘', '欧主初赔', '欧客初赔', '欧初平赔', '欧主临赔', '欧客临赔', '欧平临赔', '欧主概率', '欧平概率',\r\n",
                "       '欧客概率','是否大球']]\r\n",
                "\r\n",
                "traffic_target=csv_file['赛果'].tolist()\r\n",
                "traffic_target2=csv_file['是否大球'].tolist()\r\n",
                "for j in range(csv_file.shape[0]):\r\n",
                "    data=[]\r\n",
                "    for i in [ '主初赔', '客初赔', '初盘', '主临赔',\r\n",
                "        '客临盘赔', '临盘', '主胜概率', '客胜概率', '大球初盘', '小球初盘', '球初盘', '大球临盘', '小球临盘',\r\n",
                "        '球临盘', '欧主初赔', '欧客初赔', '欧初平赔', '欧主临赔', '欧客临赔', '欧平临赔', '欧主概率', '欧平概率',\r\n",
                "        '欧客概率']:\r\n",
                "        data.append(csv_file[i].tolist()[j])\r\n",
                "    traffic_feature.append(data)\r\n",
                "\r\n",
                "scaler = StandardScaler() # 标准化转换\r\n",
                "scaler.fit(traffic_feature)  # 训练标准化对象\r\n",
                "traffic_feature= scaler.transform(traffic_feature)   # 转换数据集\r\n",
                "feature_train, feature_test, target_train, target_test = train_test_split(traffic_feature, traffic_target2, test_size=0.3,random_state=3)\r\n",
                "print(len(feature_train))\r\n",
                "accs=[]\r\n",
                "# clf = RandomForestClassifier(criterion='entropy')\r\n",
                "for i in range(1,30):\r\n",
                "    clf = RandomForestClassifier(n_estimators=i)\r\n",
                "    clf.fit(feature_train,target_train)\r\n",
                "    predict_results=clf.predict(feature_test)\r\n",
                "    accs.append(accuracy_score(predict_results, target_test))\r\n",
                "    conf_mat = confusion_matrix(target_test, predict_results)\r\n",
                "max(accs)"
            ],
            "outputs": [],
            "metadata": {}
        },
        {
            "cell_type": "markdown",
            "source": [
                "['Unnamed: 0', '时间', '主队', '客队', '赛果', '总进球', '主初赔', '客初赔', '初盘', '主临赔',\r\n",
                "       '客临盘赔', '临盘', '主胜概率', '客胜概率', '大球初盘', '小球初盘', '球初盘', '大球临盘', '小球临盘',\r\n",
                "       '球临盘', '欧主初赔', '欧客初赔', '欧初平赔', '欧主临赔', '欧客临赔', '欧平临赔', '欧主概率', '欧平概率',\r\n",
                "       '欧客概率']"
            ],
            "metadata": {}
        },
        {
            "cell_type": "code",
            "execution_count": null,
            "source": [],
            "outputs": [],
            "metadata": {}
        },
        {
            "cell_type": "code",
            "execution_count": null,
            "source": [],
            "outputs": [],
            "metadata": {}
        }
    ],
    "metadata": {
        "orig_nbformat": 4,
        "language_info": {
            "name": "python",
            "version": "3.8.0",
            "mimetype": "text/x-python",
            "codemirror_mode": {
                "name": "ipython",
                "version": 3
            },
            "pygments_lexer": "ipython3",
            "nbconvert_exporter": "python",
            "file_extension": ".py"
        },
        "kernelspec": {
            "name": "python3",
            "display_name": "Python 3.8.0 32-bit"
        },
        "interpreter": {
            "hash": "814bed4a2547650a0889f5f74e53ab687cdb542d5d0143f2e6bd0b62f2a45467"
        }
    },
    "nbformat": 4,
    "nbformat_minor": 2
}